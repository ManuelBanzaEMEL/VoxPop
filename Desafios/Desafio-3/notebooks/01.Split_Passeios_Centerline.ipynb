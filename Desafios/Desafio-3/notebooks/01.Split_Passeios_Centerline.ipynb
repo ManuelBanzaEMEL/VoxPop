{
 "cells": [
  {
   "cell_type": "markdown",
   "id": "5d6e657c-7888-46e6-9a41-4dd8cb69d01c",
   "metadata": {},
   "source": [
    "# Dividir o dataset em 2\n",
    "\n",
    "Dentro do desafio 3 do VOXPOP\n",
    "\n",
    "EMEL - August, 2023"
   ]
  },
  {
   "cell_type": "markdown",
   "id": "094f4772-919b-4487-bf44-a51614c33542",
   "metadata": {},
   "source": [
    "<img src=\"https://www.emel.pt/temas/emel/img/logo/emel-logo-color.svg\" width=\"150\"/>  <img height=\"350\" hspace=\"20\"/> <img height=\"350\" hspace=\"20\"/>  <img src=\"https://www.emel.pt/fotos/projectos/logo_thumbnail_180x140px-01-01_3215403765ffda98c69f5b.png\" width=\"100\"/>"
   ]
  },
  {
   "cell_type": "code",
   "execution_count": 1,
   "id": "04ea525b-8c6c-460d-991c-0103fb749c4c",
   "metadata": {},
   "outputs": [],
   "source": [
    "import pandas as pd\n",
    "import geopandas as gpd"
   ]
  },
  {
   "cell_type": "markdown",
   "id": "78a06ffe-cd8a-45a7-a20f-f5da8f8ba09c",
   "metadata": {},
   "source": [
    "# 1. Importar dados"
   ]
  },
  {
   "cell_type": "code",
   "execution_count": 2,
   "id": "20c771b1-d1d1-4d16-82d5-366317c0ea68",
   "metadata": {},
   "outputs": [
    {
     "name": "stdout",
     "output_type": "stream",
     "text": [
      "130295\n"
     ]
    },
    {
     "data": {
      "text/html": [
       "<div>\n",
       "<style scoped>\n",
       "    .dataframe tbody tr th:only-of-type {\n",
       "        vertical-align: middle;\n",
       "    }\n",
       "\n",
       "    .dataframe tbody tr th {\n",
       "        vertical-align: top;\n",
       "    }\n",
       "\n",
       "    .dataframe thead th {\n",
       "        text-align: right;\n",
       "    }\n",
       "</style>\n",
       "<table border=\"1\" class=\"dataframe\">\n",
       "  <thead>\n",
       "    <tr style=\"text-align: right;\">\n",
       "      <th></th>\n",
       "      <th>Shape_Length</th>\n",
       "      <th>AverageWidth</th>\n",
       "      <th>MedianWidth</th>\n",
       "      <th>MaxWidth</th>\n",
       "      <th>MinWidth</th>\n",
       "      <th>SourceOID</th>\n",
       "      <th>SegmentoOID</th>\n",
       "      <th>Segmento</th>\n",
       "      <th>CodSig</th>\n",
       "      <th>Average Sidewalk Width</th>\n",
       "      <th>Median Sidewalk Width</th>\n",
       "      <th>Max Sidewalk Width</th>\n",
       "      <th>Min Sidewalk Width</th>\n",
       "      <th>AverageWidth_Threshold</th>\n",
       "      <th>Average Sidewalk Width Threshold</th>\n",
       "      <th>centerline_latitude</th>\n",
       "      <th>centerline_longitude</th>\n",
       "      <th>streetview_url</th>\n",
       "      <th>ID</th>\n",
       "      <th>geometry</th>\n",
       "    </tr>\n",
       "  </thead>\n",
       "  <tbody>\n",
       "    <tr>\n",
       "      <th>0</th>\n",
       "      <td>55.914227</td>\n",
       "      <td>2.772748</td>\n",
       "      <td>2.057101</td>\n",
       "      <td>6.490704</td>\n",
       "      <td>1.965701</td>\n",
       "      <td>1</td>\n",
       "      <td>20902</td>\n",
       "      <td>Rua Formosinho Sanchez</td>\n",
       "      <td>3151</td>\n",
       "      <td>2.8</td>\n",
       "      <td>2.1</td>\n",
       "      <td>6.5</td>\n",
       "      <td>2.0</td>\n",
       "      <td>2 to 3</td>\n",
       "      <td>2 to 3</td>\n",
       "      <td>38.781173</td>\n",
       "      <td>-9.172327</td>\n",
       "      <td>https://www.google.com/maps/@?hl=en&amp;gl=en&amp;laye...</td>\n",
       "      <td>1</td>\n",
       "      <td>MULTILINESTRING ((-9.17231 38.78142, -9.17232 ...</td>\n",
       "    </tr>\n",
       "    <tr>\n",
       "      <th>1</th>\n",
       "      <td>122.850402</td>\n",
       "      <td>2.111735</td>\n",
       "      <td>1.990771</td>\n",
       "      <td>7.599604</td>\n",
       "      <td>1.908114</td>\n",
       "      <td>1</td>\n",
       "      <td>20902</td>\n",
       "      <td>Rua Formosinho Sanchez</td>\n",
       "      <td>3151</td>\n",
       "      <td>2.1</td>\n",
       "      <td>2.0</td>\n",
       "      <td>7.6</td>\n",
       "      <td>1.9</td>\n",
       "      <td>2 to 3</td>\n",
       "      <td>2 to 3</td>\n",
       "      <td>38.781773</td>\n",
       "      <td>-9.171783</td>\n",
       "      <td>https://www.google.com/maps/@?hl=en&amp;gl=en&amp;laye...</td>\n",
       "      <td>2</td>\n",
       "      <td>MULTILINESTRING ((-9.17231 38.78142, -9.17228 ...</td>\n",
       "    </tr>\n",
       "    <tr>\n",
       "      <th>2</th>\n",
       "      <td>2.985464</td>\n",
       "      <td>1.563323</td>\n",
       "      <td>1.563322</td>\n",
       "      <td>1.575846</td>\n",
       "      <td>1.550801</td>\n",
       "      <td>2</td>\n",
       "      <td>9005</td>\n",
       "      <td>Rua do Rio Zêzere</td>\n",
       "      <td>15061</td>\n",
       "      <td>1.6</td>\n",
       "      <td>1.6</td>\n",
       "      <td>1.6</td>\n",
       "      <td>1.6</td>\n",
       "      <td>1.2 to 2</td>\n",
       "      <td>1.2 to 2</td>\n",
       "      <td>38.773432</td>\n",
       "      <td>-9.182726</td>\n",
       "      <td>https://www.google.com/maps/@?hl=en&amp;gl=en&amp;laye...</td>\n",
       "      <td>3</td>\n",
       "      <td>MULTILINESTRING ((-9.18271 38.77343, -9.18274 ...</td>\n",
       "    </tr>\n",
       "  </tbody>\n",
       "</table>\n",
       "</div>"
      ],
      "text/plain": [
       "   Shape_Length  AverageWidth  MedianWidth  MaxWidth  MinWidth  SourceOID  \\\n",
       "0     55.914227      2.772748     2.057101  6.490704  1.965701          1   \n",
       "1    122.850402      2.111735     1.990771  7.599604  1.908114          1   \n",
       "2      2.985464      1.563323     1.563322  1.575846  1.550801          2   \n",
       "\n",
       "   SegmentoOID                Segmento CodSig Average Sidewalk Width  \\\n",
       "0        20902  Rua Formosinho Sanchez   3151                    2.8   \n",
       "1        20902  Rua Formosinho Sanchez   3151                    2.1   \n",
       "2         9005       Rua do Rio Zêzere  15061                    1.6   \n",
       "\n",
       "  Median Sidewalk Width Max Sidewalk Width Min Sidewalk Width  \\\n",
       "0                   2.1                6.5                2.0   \n",
       "1                   2.0                7.6                1.9   \n",
       "2                   1.6                1.6                1.6   \n",
       "\n",
       "  AverageWidth_Threshold Average Sidewalk Width Threshold  \\\n",
       "0                 2 to 3                           2 to 3   \n",
       "1                 2 to 3                           2 to 3   \n",
       "2               1.2 to 2                         1.2 to 2   \n",
       "\n",
       "   centerline_latitude  centerline_longitude  \\\n",
       "0            38.781173             -9.172327   \n",
       "1            38.781773             -9.171783   \n",
       "2            38.773432             -9.182726   \n",
       "\n",
       "                                      streetview_url  ID  \\\n",
       "0  https://www.google.com/maps/@?hl=en&gl=en&laye...   1   \n",
       "1  https://www.google.com/maps/@?hl=en&gl=en&laye...   2   \n",
       "2  https://www.google.com/maps/@?hl=en&gl=en&laye...   3   \n",
       "\n",
       "                                            geometry  \n",
       "0  MULTILINESTRING ((-9.17231 38.78142, -9.17232 ...  \n",
       "1  MULTILINESTRING ((-9.17231 38.78142, -9.17228 ...  \n",
       "2  MULTILINESTRING ((-9.18271 38.77343, -9.18274 ...  "
      ]
     },
     "execution_count": 2,
     "metadata": {},
     "output_type": "execute_result"
    }
   ],
   "source": [
    "passeios = gpd.read_file(r'C:\\Users\\manuel.a.banza\\OneDrive - EMEL\\Data Science - EDA\\VoxPop\\5.1.Enhanced service design through data analytics\\Analiticas\\03_\\Mapbox_Viz\\Passeios_Centerline.geojson')\n",
    "print(len(passeios))\n",
    "passeios.head(3)"
   ]
  },
  {
   "cell_type": "code",
   "execution_count": 3,
   "id": "70c44667-7242-4fc7-9928-4bb3131bc98a",
   "metadata": {},
   "outputs": [
    {
     "name": "stdout",
     "output_type": "stream",
     "text": [
      "65147.5\n"
     ]
    }
   ],
   "source": [
    "total = len(passeios)\n",
    "print(total/2)"
   ]
  },
  {
   "cell_type": "code",
   "execution_count": 4,
   "id": "d048eb05-d354-4a1d-bec3-e5076620efc5",
   "metadata": {},
   "outputs": [
    {
     "name": "stdout",
     "output_type": "stream",
     "text": [
      "130295\n",
      "130295\n"
     ]
    }
   ],
   "source": [
    "passeios_1 = passeios.copy()\n",
    "passeios_1 = passeios_1.head(65148)\n",
    "\n",
    "passeios_2 = passeios.copy()\n",
    "passeios_2 = passeios_2.tail(65147)\n",
    "\n",
    "print(len(passeios))\n",
    "print(len(passeios_1) + len(passeios_2))"
   ]
  },
  {
   "cell_type": "code",
   "execution_count": 6,
   "id": "aca15871-91d0-4e11-af9f-126b4e3be5b9",
   "metadata": {},
   "outputs": [],
   "source": [
    "# Exportar\n",
    "passeios_1.to_file('../data_sources/data_transformed/PasseiosLargura_centerline_part1.geojson')\n",
    "passeios_2.to_file('../data_sources/data_transformed/PasseiosLargura_centerline_part2.geojson')"
   ]
  },
  {
   "cell_type": "code",
   "execution_count": null,
   "id": "59108959-ca0e-40f9-bb93-3d730582631b",
   "metadata": {},
   "outputs": [],
   "source": []
  }
 ],
 "metadata": {
  "kernelspec": {
   "display_name": "gds_py",
   "language": "python",
   "name": "gds_py"
  },
  "language_info": {
   "codemirror_mode": {
    "name": "ipython",
    "version": 3
   },
   "file_extension": ".py",
   "mimetype": "text/x-python",
   "name": "python",
   "nbconvert_exporter": "python",
   "pygments_lexer": "ipython3",
   "version": "3.10.6"
  }
 },
 "nbformat": 4,
 "nbformat_minor": 5
}
